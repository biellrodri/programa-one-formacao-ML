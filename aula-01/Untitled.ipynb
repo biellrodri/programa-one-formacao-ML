{
 "cells": [
  {
   "cell_type": "code",
   "execution_count": null,
   "id": "cc69ae8c-b48b-402b-9134-b425f06a815c",
   "metadata": {},
   "outputs": [],
   "source": []
  }
 ],
 "metadata": {
  "kernelspec": {
   "display_name": "",
   "name": ""
  },
  "language_info": {
   "name": ""
  }
 },
 "nbformat": 4,
 "nbformat_minor": 5
}
